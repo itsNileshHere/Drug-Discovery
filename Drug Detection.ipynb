{
 "cells": [
  {
   "cell_type": "markdown",
   "id": "1157679a",
   "metadata": {},
   "source": [
    "**Data Proprocessing**\n"
   ]
  },
  {
   "cell_type": "code",
   "execution_count": null,
   "id": "37c4908e-6afc-4cb2-94d0-108a96bb3972",
   "metadata": {},
   "outputs": [],
   "source": [
    "%pip install chembl_webresource_client > nul 2>&1\n",
    "%pip install pandas > nul 2>&1"
   ]
  },
  {
   "cell_type": "code",
   "execution_count": null,
   "id": "08f3729f-fc73-4869-ac2e-65a316cd38b6",
   "metadata": {},
   "outputs": [],
   "source": [
    "import pandas as pd\n",
    "from chembl_webresource_client.new_client import new_client"
   ]
  },
  {
   "cell_type": "code",
   "execution_count": null,
   "id": "50e8571e-a8ae-4915-b28a-cd69c78f1930",
   "metadata": {},
   "outputs": [],
   "source": [
    "target = new_client.target\n",
    "target_query = target.search(\"coronavirus\")\n",
    "targets = pd.DataFrame(target_query)\n",
    "targets"
   ]
  },
  {
   "cell_type": "code",
   "execution_count": null,
   "id": "66147cf2-58b9-4675-9623-f02a0e45f4b8",
   "metadata": {},
   "outputs": [],
   "source": [
    "selected_target = targets.target_chembl_id[6]\n",
    "selected_target"
   ]
  },
  {
   "cell_type": "code",
   "execution_count": null,
   "id": "e3256298-7ddc-473f-930f-8bd3a0e359b1",
   "metadata": {},
   "outputs": [],
   "source": [
    "activity = new_client.activity\n",
    "perform = activity.filter(target_chembl_id=selected_target).filter(standard_type=\"IC50\")"
   ]
  },
  {
   "cell_type": "code",
   "execution_count": null,
   "id": "4075c932-4e31-4554-bac3-9310c37e41fc",
   "metadata": {},
   "outputs": [],
   "source": [
    "df = pd.DataFrame(perform)\n",
    "df.iloc[:, -20:]\n",
    "# df"
   ]
  },
  {
   "cell_type": "code",
   "execution_count": null,
   "id": "67f7cb93",
   "metadata": {},
   "outputs": [],
   "source": [
    "df2 = df[df.standard_value.notna()]\n",
    "df2 = df2[df.canonical_smiles.notna()]\n",
    "df2 = df2.drop_duplicates([\"canonical_smiles\"])\n",
    "df2 = df2.reset_index(drop=True)\n",
    "df2.head(5).iloc[:, -20:]"
   ]
  },
  {
   "cell_type": "code",
   "execution_count": null,
   "id": "5ff8e7f9",
   "metadata": {},
   "outputs": [],
   "source": [
    "selection = [\"molecule_chembl_id\", \"canonical_smiles\", \"standard_value\"]\n",
    "df3 = df2[selection]\n",
    "df3 = df3.rename(columns={\"standard_value\": \"IC50\"})\n",
    "df3"
   ]
  },
  {
   "cell_type": "code",
   "execution_count": null,
   "id": "daec87a3",
   "metadata": {},
   "outputs": [],
   "source": [
    "def calculate_bioactivity_threshold(standard_values):\n",
    "    bioactivity_threshold = []\n",
    "    for value in standard_values:\n",
    "        if float(value) >= 10000:\n",
    "            bioactivity_threshold.append(\"inactive\")\n",
    "        elif float(value) <= 1000:\n",
    "            bioactivity_threshold.append(\"active\")\n",
    "        else:\n",
    "            bioactivity_threshold.append(\"intermediate\")\n",
    "\n",
    "    return bioactivity_threshold"
   ]
  },
  {
   "cell_type": "code",
   "execution_count": null,
   "id": "425e6fff",
   "metadata": {},
   "outputs": [],
   "source": [
    "bioactivity_class = calculate_bioactivity_threshold(df3[\"IC50\"])\n",
    "bioactivity_class = pd.Series(bioactivity_class, name=\"class\")\n",
    "# bioactivity_class\n",
    "df4 = pd.concat([df3, bioactivity_class], axis=1)\n",
    "df4"
   ]
  },
  {
   "cell_type": "markdown",
   "id": "e0db730b",
   "metadata": {},
   "source": [
    "**Data Analysis**\n"
   ]
  },
  {
   "cell_type": "code",
   "execution_count": null,
   "id": "14fb4e62",
   "metadata": {},
   "outputs": [],
   "source": [
    "%pip install rdkit > nul 2>&1\n",
    "import numpy as np\n",
    "from rdkit import Chem\n",
    "from rdkit.Chem import Descriptors, Lipinski"
   ]
  },
  {
   "cell_type": "code",
   "execution_count": null,
   "id": "e918b056",
   "metadata": {},
   "outputs": [],
   "source": [
    "def lipinski_descriptors(canonical_smile):\n",
    "    molecule = Chem.MolFromSmiles(canonical_smile)\n",
    "    if molecule is None:\n",
    "        return None\n",
    "\n",
    "    mol_wt = Descriptors.MolWt(molecule)\n",
    "    logp = Descriptors.MolLogP(molecule)\n",
    "    h_donors = Descriptors.NumHDonors(molecule)\n",
    "    h_acceptors = Descriptors.NumHAcceptors(molecule)\n",
    "\n",
    "    return {\n",
    "        \"MolWt\": mol_wt,\n",
    "        \"MolLogP\": logp,\n",
    "        \"NumHDonors\": h_donors,\n",
    "        \"NumHAcceptors\": h_acceptors,\n",
    "    }"
   ]
  },
  {
   "cell_type": "code",
   "execution_count": null,
   "id": "23428fd8",
   "metadata": {},
   "outputs": [],
   "source": [
    "df_lipinski = df4[\"canonical_smiles\"].apply(lipinski_descriptors)\n",
    "df_lipinski = pd.DataFrame(df_lipinski.tolist())\n",
    "df_lipinski"
   ]
  },
  {
   "cell_type": "code",
   "execution_count": null,
   "id": "af33e046",
   "metadata": {},
   "outputs": [],
   "source": [
    "df4"
   ]
  },
  {
   "cell_type": "code",
   "execution_count": null,
   "id": "2fafa5f8",
   "metadata": {},
   "outputs": [],
   "source": [
    "df_combined = pd.concat([df4, df_lipinski], axis=1)\n",
    "df_combined"
   ]
  },
  {
   "cell_type": "code",
   "execution_count": null,
   "id": "0c654fc4",
   "metadata": {},
   "outputs": [],
   "source": [
    "df_combined[\"IC50\"] = pd.to_numeric(df_combined[\"IC50\"])\n",
    "# df_combined.IC50.describe()"
   ]
  },
  {
   "cell_type": "code",
   "execution_count": null,
   "id": "e7378212",
   "metadata": {},
   "outputs": [],
   "source": [
    "def pIC50(input):\n",
    "    pIC50 = []\n",
    "\n",
    "    for i in input[\"IC50\"]:\n",
    "        molar = i * (10**-9)  # Converts nM to M\n",
    "        pIC50.append(-np.log10(molar))\n",
    "\n",
    "    input[\"pIC50\"] = pIC50\n",
    "    values = input.drop(\"IC50\", axis=1)\n",
    "\n",
    "    return values"
   ]
  },
  {
   "cell_type": "code",
   "execution_count": null,
   "id": "eb3b61be",
   "metadata": {},
   "outputs": [],
   "source": [
    "df_final = pIC50(df_combined)\n",
    "df_final"
   ]
  },
  {
   "cell_type": "code",
   "execution_count": null,
   "id": "35b07d57",
   "metadata": {},
   "outputs": [],
   "source": [
    "# df_final.pIC50.describe()"
   ]
  },
  {
   "cell_type": "code",
   "execution_count": null,
   "id": "0603670d",
   "metadata": {},
   "outputs": [],
   "source": [
    "%pip install matplotlib > nul 2>&1\n",
    "%pip install seaborn > nul 2>&1\n",
    "import seaborn as sns\n",
    "sns.set(style='ticks')\n",
    "import matplotlib.pyplot as plt"
   ]
  },
  {
   "cell_type": "code",
   "execution_count": null,
   "id": "dd3e2093",
   "metadata": {},
   "outputs": [],
   "source": [
    "# Removing \"intermediate\" class\n",
    "filtered_df = df_final[df_final[\"class\"] != \"intermediate\"]"
   ]
  },
  {
   "cell_type": "code",
   "execution_count": null,
   "id": "d49c3b4b",
   "metadata": {},
   "outputs": [],
   "source": [
    "plt.figure(figsize=(5.0, 5.0))\n",
    "sns.countplot(x=\"class\", data=filtered_df, edgecolor=\"black\", width=0.5)\n",
    "\n",
    "plt.xlabel(\"Bioactivity class\", fontsize=14, fontweight=\"bold\")\n",
    "plt.ylabel(\"Frequency\", fontsize=14, fontweight=\"bold\")\n",
    "plt.title(\"Count Plot of Bioactivity Class\", fontsize=16, fontweight=\"bold\")\n",
    "\n",
    "plt.show()"
   ]
  },
  {
   "cell_type": "code",
   "execution_count": null,
   "id": "2ea172ff",
   "metadata": {},
   "outputs": [],
   "source": [
    "plt.figure(figsize=(5.0, 5.0))\n",
    "sns.scatterplot(x=\"MolWt\", y=\"MolLogP\", data=filtered_df, hue=\"class\", size=\"pIC50\", edgecolor=\"black\", alpha=0.7)\n",
    "\n",
    "plt.xlabel(\"MolWt\", fontsize=14, fontweight=\"bold\")\n",
    "plt.ylabel(\"MolLogP\", fontsize=14, fontweight=\"bold\")\n",
    "plt.legend(bbox_to_anchor=(1.0, 1.0), loc=\"upper left\")"
   ]
  },
  {
   "cell_type": "code",
   "execution_count": null,
   "id": "f92ef5a3",
   "metadata": {},
   "outputs": [],
   "source": [
    "%pip install scipy > nul 2>&1"
   ]
  },
  {
   "cell_type": "code",
   "execution_count": null,
   "id": "0c2cccab",
   "metadata": {},
   "outputs": [],
   "source": [
    "def mannwhitneytest(descriptor):\n",
    "    from scipy.stats import mannwhitneyu\n",
    "\n",
    "    active = filtered_df[filtered_df[\"class\"] == \"active\"]\n",
    "    inactive = filtered_df[filtered_df[\"class\"] == \"inactive\"]\n",
    "\n",
    "    active = active[descriptor]\n",
    "    inactive = inactive[descriptor]\n",
    "\n",
    "    stat, p = mannwhitneyu(active, inactive)\n",
    "\n",
    "    alpha = 0.05\n",
    "    interpretation = (\n",
    "        \"H₀ Failed to Reject (Same Distribution)\"\n",
    "        if p > alpha\n",
    "        else \"H₀ Rejected (Different Distribution)\"\n",
    "    )\n",
    "\n",
    "    results = pd.DataFrame(\n",
    "        {\n",
    "            \"Descriptor\": descriptor,\n",
    "            \"Statistics\": stat,\n",
    "            \"p\": p,\n",
    "            \"alpha\": alpha,\n",
    "            \"Interpretation\": interpretation,\n",
    "        },\n",
    "        index=[0],\n",
    "    )\n",
    "\n",
    "    return results"
   ]
  },
  {
   "cell_type": "code",
   "execution_count": null,
   "id": "1c0977f5",
   "metadata": {},
   "outputs": [],
   "source": [
    "# Moleculer Weight\n",
    "plt.figure(figsize=(4, 4))\n",
    "\n",
    "sns.boxplot(x=\"class\", y=\"MolWt\", data=filtered_df)\n",
    "\n",
    "plt.xlabel(\"Bioactivity class\", fontsize=14, fontweight=\"bold\")\n",
    "plt.ylabel(\"MolWt\", fontsize=14, fontweight=\"bold\")"
   ]
  },
  {
   "cell_type": "code",
   "execution_count": null,
   "id": "8e5c6de8",
   "metadata": {},
   "outputs": [],
   "source": [
    "mannwhitneytest(\"MolWt\")"
   ]
  },
  {
   "cell_type": "code",
   "execution_count": null,
   "id": "5bdbfcb0",
   "metadata": {},
   "outputs": [],
   "source": [
    "# Moleculer LogP\n",
    "plt.figure(figsize=(4, 4))\n",
    "\n",
    "sns.boxplot(x=\"class\", y=\"MolLogP\", data=filtered_df)\n",
    "\n",
    "plt.xlabel(\"Bioactivity class\", fontsize=14, fontweight=\"bold\")\n",
    "plt.ylabel(\"MolLogP\", fontsize=14, fontweight=\"bold\")"
   ]
  },
  {
   "cell_type": "code",
   "execution_count": null,
   "id": "f42e1e43",
   "metadata": {},
   "outputs": [],
   "source": [
    "mannwhitneytest(\"MolLogP\")"
   ]
  },
  {
   "cell_type": "code",
   "execution_count": null,
   "id": "97389935",
   "metadata": {},
   "outputs": [],
   "source": [
    "# Number of H Donors\n",
    "plt.figure(figsize=(4, 4))\n",
    "\n",
    "sns.boxplot(x=\"class\", y=\"NumHDonors\", data=filtered_df)\n",
    "\n",
    "plt.xlabel(\"Bioactivity class\", fontsize=14, fontweight=\"bold\")\n",
    "plt.ylabel(\"NumHDonors\", fontsize=14, fontweight=\"bold\")"
   ]
  },
  {
   "cell_type": "code",
   "execution_count": null,
   "id": "12818976",
   "metadata": {},
   "outputs": [],
   "source": [
    "mannwhitneytest(\"NumHDonors\")"
   ]
  },
  {
   "cell_type": "code",
   "execution_count": null,
   "id": "66ae3f5c",
   "metadata": {},
   "outputs": [],
   "source": [
    "# Number of H Acceptors\n",
    "plt.figure(figsize=(4, 4))\n",
    "\n",
    "sns.boxplot(x=\"class\", y=\"NumHAcceptors\", data=filtered_df)\n",
    "\n",
    "plt.xlabel(\"Bioactivity class\", fontsize=14, fontweight=\"bold\")\n",
    "plt.ylabel(\"NumHAcceptors\", fontsize=14, fontweight=\"bold\")"
   ]
  },
  {
   "cell_type": "code",
   "execution_count": null,
   "id": "77d630e9",
   "metadata": {},
   "outputs": [],
   "source": [
    "mannwhitneytest(\"NumHAcceptors\")"
   ]
  },
  {
   "cell_type": "code",
   "execution_count": null,
   "id": "94ea79dc",
   "metadata": {},
   "outputs": [],
   "source": [
    "# pIC50\n",
    "plt.figure(figsize=(4, 4))\n",
    "\n",
    "sns.boxplot(x=\"class\", y=\"pIC50\", data=filtered_df)\n",
    "\n",
    "plt.xlabel(\"Bioactivity class\", fontsize=14, fontweight=\"bold\")\n",
    "plt.ylabel(\"pIC50\", fontsize=14, fontweight=\"bold\")"
   ]
  },
  {
   "cell_type": "code",
   "execution_count": null,
   "id": "52247891",
   "metadata": {},
   "outputs": [],
   "source": [
    "mannwhitneytest(\"pIC50\")"
   ]
  },
  {
   "cell_type": "code",
   "execution_count": null,
   "id": "31005991",
   "metadata": {},
   "outputs": [],
   "source": [
    "df3_selection = df_final[[\"canonical_smiles\",\"molecule_chembl_id\"]]\n",
    "df3_selection.to_csv('molecule.smi', sep='\\t', index=False, header=False)"
   ]
  },
  {
   "cell_type": "code",
   "execution_count": null,
   "id": "22c93428",
   "metadata": {},
   "outputs": [],
   "source": [
    "!java -Xms1G -Xmx1G -Djava.awt.headless=true -jar ./PaDEL-Descriptor/PaDEL-Descriptor.jar -removesalt -standardizenitro -fingerprints -descriptortypes ./PaDEL-Descriptor/PubchemFingerprinter.xml -dir ./ -file descriptors_output.csv"
   ]
  },
  {
   "cell_type": "code",
   "execution_count": null,
   "id": "ceaf783a",
   "metadata": {},
   "outputs": [],
   "source": [
    "# %pip install padelpy > nul 2>&1\n",
    "\n",
    "# from padelpy import padeldescriptor\n",
    "\n",
    "# fingerprint = 'PubchemFingerprinter.xml'\n",
    "\n",
    "# fingerprint_output_file = ''.join([fingerprint,'.csv']) #Substructure.csv\n",
    "\n",
    "# padeldescriptor(mol_dir='molecule.smi', \n",
    "#                 d_file=fingerprint_output_file, #'Substructure.csv'\n",
    "#                 #descriptortypes='SubstructureFingerprint.xml', \n",
    "#                 descriptortypes= fingerprint,\n",
    "#                 detectaromaticity=True,\n",
    "#                 standardizenitro=True,\n",
    "#                 standardizetautomers=True,\n",
    "#                 threads=2,\n",
    "#                 removesalt=True,\n",
    "#                 log=True,\n",
    "#                 fingerprints=True)"
   ]
  },
  {
   "cell_type": "code",
   "execution_count": null,
   "id": "a867cbd6",
   "metadata": {},
   "outputs": [],
   "source": [
    "df3_X = pd.read_csv('descriptors_output.csv')\n",
    "# df3_X\n",
    "df3_X = df3_X.drop(columns=['Name'])\n",
    "df3_X"
   ]
  },
  {
   "cell_type": "code",
   "execution_count": null,
   "id": "129883c5",
   "metadata": {},
   "outputs": [],
   "source": [
    "df3_Y = df_final['pIC50']\n",
    "df3_Y"
   ]
  },
  {
   "cell_type": "code",
   "execution_count": null,
   "id": "db1daf7f",
   "metadata": {},
   "outputs": [],
   "source": [
    "%pip install scikit-learn > nul 2>&1"
   ]
  },
  {
   "cell_type": "code",
   "execution_count": null,
   "id": "9a5a18e6",
   "metadata": {},
   "outputs": [],
   "source": [
    "from sklearn.feature_selection import VarianceThreshold\n",
    "selection = VarianceThreshold(threshold=(.8 * (1 - .8)))    \n",
    "df3_X = selection.fit_transform(df3_X)\n",
    "# df3_X.shape"
   ]
  },
  {
   "cell_type": "code",
   "execution_count": null,
   "id": "7046ed96",
   "metadata": {},
   "outputs": [],
   "source": [
    "from sklearn.model_selection import train_test_split\n",
    "\n",
    "X_train, X_test, Y_train, Y_test = train_test_split(df3_X, df3_Y, test_size=0.2)"
   ]
  },
  {
   "cell_type": "code",
   "execution_count": null,
   "id": "840d8cc4",
   "metadata": {},
   "outputs": [],
   "source": [
    "X_train.shape, Y_train.shape"
   ]
  },
  {
   "cell_type": "code",
   "execution_count": null,
   "id": "882d1ec6",
   "metadata": {},
   "outputs": [],
   "source": [
    "X_test.shape, Y_test.shape"
   ]
  },
  {
   "cell_type": "code",
   "execution_count": 159,
   "id": "c83de7a5",
   "metadata": {},
   "outputs": [
    {
     "data": {
      "text/plain": [
       "0.30175056717328186"
      ]
     },
     "execution_count": 159,
     "metadata": {},
     "output_type": "execute_result"
    }
   ],
   "source": [
    "from sklearn.ensemble import RandomForestRegressor\n",
    "\n",
    "model = RandomForestRegressor(n_estimators=500, random_state=42)\n",
    "model.fit(X_train, Y_train)\n",
    "r2 = model.score(X_test, Y_test)\n",
    "r2"
   ]
  },
  {
   "cell_type": "code",
   "execution_count": null,
   "id": "b605ded6",
   "metadata": {},
   "outputs": [],
   "source": [
    "Y_pred = model.predict(X_test)\n",
    "Y_pred"
   ]
  },
  {
   "cell_type": "code",
   "execution_count": 157,
   "id": "e728b058",
   "metadata": {},
   "outputs": [
    {
     "data": {
      "image/png": "[encoded data removed]",
      "text/plain": [
       "<Figure size 500x500 with 1 Axes>"
      ]
     },
     "metadata": {},
     "output_type": "display_data"
    }
   ],
   "source": [
    "import seaborn as sns\n",
    "import matplotlib.pyplot as plt\n",
    "\n",
    "sns.set(color_codes=True)\n",
    "sns.set_style(\"white\")\n",
    "\n",
    "ax = sns.regplot(x=Y_test, y=Y_pred, scatter_kws={'alpha':0.4})\n",
    "ax.set_xlabel('Experimental pIC50', fontsize='large', fontweight='bold')\n",
    "ax.set_ylabel('Predicted pIC50', fontsize='large', fontweight='bold')\n",
    "ax.set_xlim(0, 12)\n",
    "ax.set_ylim(0, 12)\n",
    "ax.figure.set_size_inches(5, 5)\n",
    "plt.show()"
   ]
  },
  {
   "cell_type": "code",
   "execution_count": null,
   "id": "4868ba10",
   "metadata": {},
   "outputs": [],
   "source": []
  }
 ],
 "metadata": {
  "kernelspec": {
   "display_name": "Python 3 (ipykernel)",
   "language": "python",
   "name": "python3"
  },
  "language_info": {
   "codemirror_mode": {
    "name": "ipython",
    "version": 3
   },
   "file_extension": ".py",
   "mimetype": "text/x-python",
   "name": "python",
   "nbconvert_exporter": "python",
   "pygments_lexer": "ipython3",
   "version": "3.11.7"
  }
 },
 "nbformat": 4,
 "nbformat_minor": 5
}
